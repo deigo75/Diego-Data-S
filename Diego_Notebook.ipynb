{
  "metadata": {
    "kernelspec": {
      "name": "python",
      "display_name": "Python (Pyodide)",
      "language": "python"
    },
    "language_info": {
      "codemirror_mode": {
        "name": "python",
        "version": 3
      },
      "file_extension": ".py",
      "mimetype": "text/x-python",
      "name": "python",
      "nbconvert_exporter": "python",
      "pygments_lexer": "ipython3",
      "version": "3.8"
    }
  },
  "nbformat_minor": 4,
  "nbformat": 4,
  "cells": [
    {
      "cell_type": "markdown",
      "source": "The world of Data Science",
      "metadata": {}
    },
    {
      "cell_type": "markdown",
      "source": "Introduction\nData Science combines mathematics and statistics, specialized programming, advanced analytics, artificial intelligence (AI),\nand machine learning with subject-specific knowledge to discover actionable insights",
      "metadata": {}
    },
    {
      "cell_type": "markdown",
      "source": "Data Science libraries \n- Numpy\n- Pandas\n- Scikit-learn",
      "metadata": {}
    },
    {
      "cell_type": "markdown",
      "source": "| Data Science Tools |\n|--------------------|\n|         Git        |\n|       GitHub       |\n|  Jupyter Notebook  |\n|   Microsoft Excel  |\n|        SQL         |\n|     TensorFlow     |\n|       Apache       |",
      "metadata": {}
    },
    {
      "cell_type": "markdown",
      "source": "2x+1, x+y=16, x+1, xy=16",
      "metadata": {
        "jupyter": {
          "source_hidden": true
        }
      }
    },
    {
      "cell_type": "code",
      "source": "(47+2)*3",
      "metadata": {
        "trusted": true
      },
      "outputs": [
        {
          "execution_count": 1,
          "output_type": "execute_result",
          "data": {
            "text/plain": "147"
          },
          "metadata": {}
        }
      ],
      "execution_count": 1
    },
    {
      "cell_type": "code",
      "source": "def convertir_minutos_en_horas(minutos):\n    horas = minutos // 60\n    minutos_restantes = minutos % 60\n    return horas, minutos_restantes\nminutos = 135\nhoras, minutos_restantes = convertir_minutos_en_horas(minutos)\nprint(f\"{minutos} minutos son {horas} horas y {minutos_restantes} minutos.\")",
      "metadata": {
        "trusted": true
      },
      "outputs": [
        {
          "name": "stdout",
          "text": "135 minutos son 2 horas y 15 minutos.\n",
          "output_type": "stream"
        }
      ],
      "execution_count": 2
    },
    {
      "cell_type": "code",
      "source": "objetivos = [\n    \"Python\",\n    \"Jupyter Notebook\",\n    \"Data Analytics\",\n    \"machine learning\",\n    \"data science\"\n]\nprint(\"Lista de Objetivos:\")\nfor i, objetivo in enumerate(objetivos, 1):\n    print(f\"{i}. {objetivo}\")",
      "metadata": {
        "trusted": true
      },
      "outputs": [
        {
          "name": "stdout",
          "text": "Lista de Objetivos:\n1. Python\n2. Jupyter Notebook\n3. Data Analytics\n4. machine learning\n5. data science\n",
          "output_type": "stream"
        }
      ],
      "execution_count": 4
    },
    {
      "cell_type": "markdown",
      "source": "**Autor:** Diego Moreno\n### AUTOR: *Diego Moreno*",
      "metadata": {}
    }
  ]
}